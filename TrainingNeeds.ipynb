{
 "cells": [
  {
   "cell_type": "code",
   "execution_count": 69,
   "id": "56fc49fd-03cb-4c8c-aaa4-29702e12c5ac",
   "metadata": {},
   "outputs": [],
   "source": [
    "#Importing necessary libraries\n",
    "import os\n",
    "import pandas as pd\n",
    "import numpy as np\n",
    "import matplotlib.pyplot as plot"
   ]
  },
  {
   "cell_type": "code",
   "execution_count": 71,
   "id": "624c8ed1-9be7-47a9-9fc8-bd91ddf49e10",
   "metadata": {},
   "outputs": [],
   "source": [
    "os.chdir('C:\\\\Users\\\\otien\\\\OneDrive\\\\Desktop\\\\QI')\n",
    "df = pd.read_csv(\"C:\\\\Users\\\\otien\\\\OneDrive\\\\Desktop\\\\QI\\\\TrainingNeedsAnalysis.csv\")"
   ]
  },
  {
   "cell_type": "code",
   "execution_count": 73,
   "id": "74c5a0a8-5390-486d-9db3-000c18b4c79a",
   "metadata": {},
   "outputs": [],
   "source": [
    "# Exclude the first 18 entries (since they are pilot test data)\n",
    "df = df.iloc[18:].reset_index(drop=True)\n"
   ]
  },
  {
   "cell_type": "code",
   "execution_count": 75,
   "id": "26bef1a3-f4f2-4d95-8379-a2927752f336",
   "metadata": {},
   "outputs": [],
   "source": [
    "# List of new column names\n",
    "new_columns = [\n",
    "    'Record', 'Timestamp', 'Consent', 'Institution', 'Gender', 'Age', 'Role', 'Level', 'Course1', 'Course2', 'Course3',\n",
    "    'Course4', 'School', 'Department', 'YearsServed', 'Q1', 'Q2', 'CQIAwareof', 'Q3', 'PSIAwareof', 'Q4', 'Q5', 'Q6_lecture_and_presentations', 'Q6_case_studies',\n",
    "    'Q6_workshops_and_hands_on_experience', 'Q6_group_projects', 'Q6_simulations_and_role_playing',\n",
    "    'Q6_peer_learning_and_discussions', 'Q6_mentorship_and_coaching', 'Q6_other', 'Q6_other_specify', 'Q7_lecture_and_presentations',\n",
    "    'Q7_case_studies', 'Q7_workshops_and_hands_on_experience', 'Q7_group_projects', 'Q7_simulations_and_role_playing',\n",
    "    'Q7_peer_learning_and_discussions', 'Q7_mentorship_and_coaching', 'Q7_other', 'Q7_other_specify', 'Q8',\n",
    "    'Q9_process_mapping_and_workflow_analysis', 'Q9_data_collection_and_analysis_QI', 'Q9_plan_do_study_act',\n",
    "    'Q9_lean_and_six_sigma', 'Q9_change_management', 'Q9_measuring_and_monitoring_quality_metrics',\n",
    "    'Q9_team_and_communication_QI', 'Q9_clinical_audits', 'Q9_sustainability_QI', 'Q9_QI_project_management',\n",
    "    'Q9_regulatory_and_accreditation_standards', 'Q9_other', 'Q9_other_specify', 'Q10_root_cause_analysis',\n",
    "    'Q10_error_prevention_and_mitigation_startegies', 'Q10_medication_safety', 'Q10_infection_prevention_and_control',\n",
    "    'Q10_incident_reporting_and_learning_systems', 'Q10_human_factors_and_safety_culture', 'Q10_safe_care_transitions',\n",
    "    'Q10_patient_identification_and_communication', 'Q10_other', 'Q10_other_specify', 'Q11_timelines_of_care', 'Q11_patient_satisfaction',\n",
    "    'Q11_equal_quality_of_care', 'Q11_efficient_use_of_resources', 'Q11_educational_programs',\n",
    "    'Q11_clinical_care_protocols', 'Q11_facility_mortality_audit', 'Q11_other', 'Q11_none', 'Q11_other_specify', 'Q12', 'Q13', 'Q14', 'Q15',\n",
    "    'Q16', 'Q17', 'Q18', 'Q19', 'Q20', 'Q21', 'Q22', 'Q23', 'Q24_lack_of_expertise_and_training', 'Q24_resistance_to_change',\n",
    "    'Q24_inadequate_teaching_resources', 'Q24_time_constraints', 'Q24_limited_experience_with_interdisciplinary_teaching',\n",
    "    'Q24_lack_of_motivation_or_incentives', 'Q24_institutional_culture', 'Q24_inadequate_infrastructure',\n",
    "    'Q24_competing_priorities', 'Q24_lack_of_leadership_support', 'Q24_interprofessional_collaboration',\n",
    "    'Q24_curriculum_integration_issues', 'Q24_sustainability_issues', 'Q24_other', 'Q24_other_specify', 'Q1b', 'Q2b', 'Q3b', 'Q4b', 'Q5b', 'Q6b',\n",
    "    'Q7b', 'Q8b', 'Q9b', 'Q10b', 'Q11b', 'Q1c', 'Q2c', 'Q3c', 'Q4c', 'Q5c', 'Q1d', 'Q2d', 'Q3d', 'Q4d', 'Q5d', 'Q1e',\n",
    "    'Q2e', 'Q3e', 'Q4e', 'Q5e', 'Q6e', 'Q1f', 'Q2f', 'Q3f', 'Q4f', 'Q5f', 'Q6f', 'Q7f', 'Q1g', 'Q2g', 'Q1h', 'Q2h', 'Q1i',\n",
    "    'Q2i', 'Q3i', 'Q4i', 'Q5i', 'Q6i', 'Q7i', 'Q8i', 'CommitteeName', 'Q9i', 'Q10i', 'Q11i', 'Q12i', 'Q13i', 'Q1j', 'Q2j', 'Complete'\n",
    "]\n",
    "\n",
    "# Replace column names\n",
    "df.columns = new_columns\n"
   ]
  },
  {
   "cell_type": "code",
   "execution_count": 81,
   "id": "55a0be52-f2f9-4b03-afc2-82b0ef619a94",
   "metadata": {},
   "outputs": [],
   "source": [
    "# Replace \"Unchecked\" with 0 and \"Checked\" with 1\n",
    "df = df.replace({'Unchecked': 0, 'Checked': 1}).infer_objects()\n"
   ]
  },
  {
   "cell_type": "code",
   "execution_count": 85,
   "id": "ed7efe73-3130-402a-827c-e4534b5ef527",
   "metadata": {},
   "outputs": [],
   "source": [
    "# Replace \"Strongly Disagree\" with 5, Disagree with 4, Neutral with 3, Agree with 2 and strong agree with with 1\n",
    "\n",
    "df.replace({'Strongly Disagree': 5, 'Disagree': 4, 'Neutral': 3, \n",
    "            'Agree': 2, 'Strongly Agree': 1, 'Don\\'t know': 3}, inplace=True)"
   ]
  },
  {
   "cell_type": "code",
   "execution_count": 87,
   "id": "80318161-3a87-47c7-8bab-38251f020d49",
   "metadata": {},
   "outputs": [],
   "source": [
    "file_path = 'C:\\\\Users\\\\otien\\\\OneDrive\\\\Desktop\\\\QI\\\\TrainingNeeds.csv'  # Specify the file name or path\n",
    "df.to_csv(file_path, index=False)"
   ]
  },
  {
   "cell_type": "code",
   "execution_count": 89,
   "id": "52fb7190-37bc-441e-a6ed-99a05d7f96c4",
   "metadata": {},
   "outputs": [
    {
     "name": "stdout",
     "output_type": "stream",
     "text": [
      "Teaching methods currently used for QI and patient safety training, Frequency (Percentages)\n",
      "Gender                               Female       Male      Total\n",
      "Lectures and Presentations         133 (34)   155 (32)   288 (33)\n",
      "Case Studies                        60 (15)    75 (16)   135 (15)\n",
      "Workshops and Hands-On Exercises     37 (9)    57 (12)    94 (11)\n",
      "Group Projects                       36 (9)    51 (11)    87 (10)\n",
      "Simulations and Role-Playing         34 (9)     35 (7)     69 (8)\n",
      "Peer Learning and Discussions       57 (15)    62 (13)   119 (14)\n",
      "Mentorship and Coaching              31 (8)    48 (10)     79 (9)\n",
      "Other                                 4 (1)      0 (0)      4 (0)\n",
      "Total                             392 (100)  483 (100)  875 (100)\n"
     ]
    }
   ],
   "source": [
    "# Cross-tabulation for teaching methods currently used for QI and patient safety training\n",
    "teaching_methods = ['Q6_lecture_and_presentations', 'Q6_case_studies', 'Q6_workshops_and_hands_on_experience', \n",
    "                    'Q6_group_projects', 'Q6_simulations_and_role_playing', \n",
    "                    'Q6_peer_learning_and_discussions', 'Q6_mentorship_and_coaching', 'Q6_other']\n",
    "\n",
    "# Mapping the original column names to more readable descriptions\n",
    "teaching_method_labels = {\n",
    "    'Q6_lecture_and_presentations': 'Lectures and Presentations',\n",
    "    'Q6_case_studies': 'Case Studies',\n",
    "    'Q6_workshops_and_hands_on_experience': 'Workshops and Hands-On Exercises',\n",
    "    'Q6_group_projects': 'Group Projects',\n",
    "    'Q6_simulations_and_role_playing': 'Simulations and Role-Playing',\n",
    "    'Q6_peer_learning_and_discussions': 'Peer Learning and Discussions',\n",
    "    'Q6_mentorship_and_coaching': 'Mentorship and Coaching',\n",
    "    'Q6_other': 'Other'\n",
    "}\n",
    "\n",
    "# Filter out 'gender_minority' and 'prefer_not_to_say' from the Gender variable\n",
    "df_filtered = df_included[~df_included['Gender'].isin(['gender_minority', 'prefer_not_to_say'])]\n",
    "\n",
    "# Create the gender table\n",
    "gender_table = pd.DataFrame({\n",
    "    teaching_method_labels[teaching]: df_filtered.groupby('Gender')[teaching].sum() for teaching in teaching_methods\n",
    "}).T\n",
    "\n",
    "# Add total column\n",
    "gender_table['Total'] = gender_table.sum(axis=1)\n",
    "\n",
    "# Add total row\n",
    "gender_table.loc['Total'] = gender_table.sum()\n",
    "\n",
    "# Convert all values to whole numbers\n",
    "gender_table = gender_table.round().astype(int)\n",
    "\n",
    "# Calculate percentages\n",
    "percentages = gender_table.div(gender_table.loc['Total'], axis=1) * 100\n",
    "percentages = percentages.round().astype(int)\n",
    "\n",
    "# Combine whole numbers and percentages\n",
    "combined_table = gender_table.astype(str) + ' (' + percentages.astype(str) + ')'\n",
    "\n",
    "# Display the table with totals\n",
    "print(\"Teaching methods currently used for QI and patient safety training, Frequency (Percentages)\")\n",
    "print(combined_table.to_string())"
   ]
  },
  {
   "cell_type": "code",
   "execution_count": 91,
   "id": "2b41d443-597c-4021-bf25-8c029f6d63fa",
   "metadata": {},
   "outputs": [
    {
     "name": "stdout",
     "output_type": "stream",
     "text": [
      "Teaching methods considered to be most effective and feasible, Frequency (Percentages)\n",
      "Gender                               Female       Male      Total\n",
      "Lectures and Presentations         103 (22)   108 (20)   211 (21)\n",
      "Case Studies                        65 (14)    78 (15)   143 (14)\n",
      "Workshops and Hands-On Exercises    83 (18)    90 (17)   173 (17)\n",
      "Group Projects                       43 (9)    51 (10)     94 (9)\n",
      "Simulations and Role-Playing        59 (13)    59 (11)   118 (12)\n",
      "Peer Learning and Discussions       64 (14)    80 (15)   144 (14)\n",
      "Mentorship and Coaching             44 (10)    68 (13)   112 (11)\n",
      "Other                                 0 (0)      1 (0)      1 (0)\n",
      "Total                             461 (100)  535 (100)  996 (100)\n"
     ]
    }
   ],
   "source": [
    "# Cross-tabulation for teaching methods considered to be most effective and feasible\n",
    "teaching_methods = ['Q7_lecture_and_presentations', 'Q7_case_studies', 'Q7_workshops_and_hands_on_experience', \n",
    "                    'Q7_group_projects', 'Q7_simulations_and_role_playing', \n",
    "                    'Q7_peer_learning_and_discussions', 'Q7_mentorship_and_coaching', 'Q7_other']\n",
    "\n",
    "# Mapping the original column names to more readable descriptions\n",
    "teaching_method_labels = {\n",
    "    'Q7_lecture_and_presentations': 'Lectures and Presentations',\n",
    "    'Q7_case_studies': 'Case Studies',\n",
    "    'Q7_workshops_and_hands_on_experience': 'Workshops and Hands-On Exercises',\n",
    "    'Q7_group_projects': 'Group Projects',\n",
    "    'Q7_simulations_and_role_playing': 'Simulations and Role-Playing',\n",
    "    'Q7_peer_learning_and_discussions': 'Peer Learning and Discussions',\n",
    "    'Q7_mentorship_and_coaching': 'Mentorship and Coaching',\n",
    "    'Q7_other': 'Other'\n",
    "}\n",
    "\n",
    "# Filter out 'gender_minority' and 'prefer_not_to_say' from the Gender variable\n",
    "df_filtered = df_included[~df_included['Gender'].isin(['gender_minority', 'prefer_not_to_say'])]\n",
    "\n",
    "# Create the gender table\n",
    "gender_table = pd.DataFrame({\n",
    "    teaching_method_labels[teaching]: df_filtered.groupby('Gender')[teaching].sum() for teaching in teaching_methods\n",
    "}).T\n",
    "\n",
    "# Add total column\n",
    "gender_table['Total'] = gender_table.sum(axis=1)\n",
    "\n",
    "# Add total row\n",
    "gender_table.loc['Total'] = gender_table.sum()\n",
    "\n",
    "# Convert all values to whole numbers\n",
    "gender_table = gender_table.round().astype(int)\n",
    "\n",
    "# Calculate percentages\n",
    "percentages = gender_table.div(gender_table.loc['Total'], axis=1) * 100\n",
    "percentages = percentages.round().astype(int)\n",
    "\n",
    "# Combine whole numbers and percentages\n",
    "combined_table = gender_table.astype(str) + ' (' + percentages.astype(str) + ')'\n",
    "\n",
    "# Display the table with totals\n",
    "print(\"Teaching methods considered to be most effective and feasible, Frequency (Percentages)\")\n",
    "print(combined_table.to_string())"
   ]
  },
  {
   "cell_type": "code",
   "execution_count": null,
   "id": "e618e473-68d6-4bab-9f5e-02404f18bb9b",
   "metadata": {},
   "outputs": [],
   "source": []
  },
  {
   "cell_type": "code",
   "execution_count": null,
   "id": "038a8ea0-1dcd-4074-b8e7-03f517661b4b",
   "metadata": {},
   "outputs": [],
   "source": []
  }
 ],
 "metadata": {
  "kernelspec": {
   "display_name": "Python 3 (ipykernel)",
   "language": "python",
   "name": "python3"
  },
  "language_info": {
   "codemirror_mode": {
    "name": "ipython",
    "version": 3
   },
   "file_extension": ".py",
   "mimetype": "text/x-python",
   "name": "python",
   "nbconvert_exporter": "python",
   "pygments_lexer": "ipython3",
   "version": "3.12.4"
  }
 },
 "nbformat": 4,
 "nbformat_minor": 5
}
